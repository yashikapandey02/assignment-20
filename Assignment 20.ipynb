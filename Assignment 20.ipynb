{
 "cells": [
  {
   "cell_type": "code",
   "execution_count": null,
   "id": "c1f9095f",
   "metadata": {},
   "outputs": [],
   "source": [
    "1.Set the variable test1 to the string 'This is a test of the emergency text system,' and save test1 to a file named test.txt."
   ]
  },
  {
   "cell_type": "code",
   "execution_count": 2,
   "id": "93996f5e",
   "metadata": {},
   "outputs": [],
   "source": [
    "test1 = 'This is a test of the emergency text system'\n",
    "len(test1)\n",
    "with open('test.txt', 'wt') as outfile:\n",
    "    outfile.write(test1)\n",
    "    \n",
    "outfile.close()"
   ]
  },
  {
   "cell_type": "code",
   "execution_count": null,
   "id": "03151032",
   "metadata": {},
   "outputs": [],
   "source": [
    "2.Read the contents of the file test.txt into the variable test2. Is there a difference between test 1 and test 2?"
   ]
  },
  {
   "cell_type": "code",
   "execution_count": 4,
   "id": "b4e6fcad",
   "metadata": {},
   "outputs": [
    {
     "data": {
      "text/plain": [
       "True"
      ]
     },
     "execution_count": 4,
     "metadata": {},
     "output_type": "execute_result"
    }
   ],
   "source": [
    "with open('test.txt', 'rt') as infile:\n",
    "    test2 = infile.read()\n",
    "len(test2)\n",
    "test1 == test2"
   ]
  },
  {
   "cell_type": "code",
   "execution_count": null,
   "id": "cc550dd1",
   "metadata": {},
   "outputs": [],
   "source": [
    "3.Create a CSV file called books.csv by using these lines:\n",
    "title,author,year\n",
    "The Weirdstone of Brisingamen,Alan Garner,1960\n",
    "Perdido Street Station,China Miéville,2000\n",
    "Thud!,Terry Pratchett,2005\n",
    "The Spellman Files,Lisa Lutz,2007"
   ]
  },
  {
   "cell_type": "code",
   "execution_count": 7,
   "id": "eafd1bc9",
   "metadata": {},
   "outputs": [],
   "source": [
    "text = '''title,author,year\n",
    "The Weirdstone of Brisingamen,Alan Garner,1960\n",
    "Perdido Street Station,China Miéville,2000\n",
    "Thud!,Terry Pratchett,2005\n",
    "The Spellman Files,Lisa Lutz,2007\n",
    "Small Gods,Terry Pratchett,1992\n",
    "'''\n",
    "with open('books.csv', 'wt') as outfile:\n",
    "    outfile.write(text)"
   ]
  },
  {
   "cell_type": "code",
   "execution_count": null,
   "id": "92bcb412",
   "metadata": {},
   "outputs": [],
   "source": [
    "4.Use the sqlite3 module to create a SQLite database called books.db, and a table called books with these fields: title (text),\n",
    "    author (text), and year (integer)."
   ]
  },
  {
   "cell_type": "code",
   "execution_count": 8,
   "id": "f94dae65",
   "metadata": {},
   "outputs": [
    {
     "data": {
      "text/plain": [
       "<sqlite3.Cursor at 0x190c7460a40>"
      ]
     },
     "execution_count": 8,
     "metadata": {},
     "output_type": "execute_result"
    }
   ],
   "source": [
    "import sqlite3\n",
    "db = sqlite3.connect('books.db')\n",
    "curs = db.cursor()\n",
    "curs.execute('''create table book (title text, author text, year int)''')"
   ]
  },
  {
   "cell_type": "code",
   "execution_count": 9,
   "id": "c8d327e4",
   "metadata": {},
   "outputs": [],
   "source": [
    " db.commit()"
   ]
  },
  {
   "cell_type": "code",
   "execution_count": null,
   "id": "eb920912",
   "metadata": {},
   "outputs": [],
   "source": [
    "5.Read books.csv and insert its data into the book table."
   ]
  },
  {
   "cell_type": "code",
   "execution_count": 10,
   "id": "53443de3",
   "metadata": {},
   "outputs": [],
   "source": [
    "import csv\n",
    "import sqlite3\n",
    "ins_str = 'insert into book values(?, ?, ?)'\n",
    "with open('books.csv', 'rt') as infile:\n",
    "    books = csv.DictReader(infile)\n",
    "    for book in books:\n",
    "        curs.execute(ins_str, (book['title'], book['author'], book['year']))"
   ]
  },
  {
   "cell_type": "code",
   "execution_count": 11,
   "id": "8c091232",
   "metadata": {},
   "outputs": [],
   "source": [
    "db.commit()"
   ]
  },
  {
   "cell_type": "code",
   "execution_count": null,
   "id": "45c059ed",
   "metadata": {},
   "outputs": [],
   "source": [
    "6.Select and print the title column from the book table in alphabetical order."
   ]
  },
  {
   "cell_type": "code",
   "execution_count": 12,
   "id": "eae5b0ec",
   "metadata": {},
   "outputs": [
    {
     "name": "stdout",
     "output_type": "stream",
     "text": [
      "('Perdido Street Station',)\n",
      "('Small Gods',)\n",
      "('The Spellman Files',)\n",
      "('The Weirdstone of Brisingamen',)\n",
      "('Thud!',)\n"
     ]
    }
   ],
   "source": [
    "sql = 'select title from book order by title asc'\n",
    "for row in db.execute(sql):\n",
    "    print(row)"
   ]
  },
  {
   "cell_type": "code",
   "execution_count": 13,
   "id": "1c121f70",
   "metadata": {},
   "outputs": [
    {
     "name": "stdout",
     "output_type": "stream",
     "text": [
      "Perdido Street Station\n",
      "Small Gods\n",
      "The Spellman Files\n",
      "The Weirdstone of Brisingamen\n",
      "Thud!\n"
     ]
    }
   ],
   "source": [
    "for row in db.execute(sql):\n",
    "    print(row[0])"
   ]
  },
  {
   "cell_type": "code",
   "execution_count": null,
   "id": "19c5ed2a",
   "metadata": {},
   "outputs": [],
   "source": [
    "7.From the book table, select and print all columns in the order of publication."
   ]
  },
  {
   "cell_type": "code",
   "execution_count": 14,
   "id": "835a6736",
   "metadata": {},
   "outputs": [
    {
     "name": "stdout",
     "output_type": "stream",
     "text": [
      "('The Weirdstone of Brisingamen', 'Alan Garner', 1960)\n",
      "('Small Gods', 'Terry Pratchett', 1992)\n",
      "('Perdido Street Station', 'China Miéville', 2000)\n",
      "('Thud!', 'Terry Pratchett', 2005)\n",
      "('The Spellman Files', 'Lisa Lutz', 2007)\n"
     ]
    }
   ],
   "source": [
    "for row in db.execute('select * from book order by year'):\n",
    "    print(row)"
   ]
  },
  {
   "cell_type": "code",
   "execution_count": 15,
   "id": "6bba8ccf",
   "metadata": {},
   "outputs": [
    {
     "name": "stdout",
     "output_type": "stream",
     "text": [
      "The Weirdstone of Brisingamen, Alan Garner, 1960\n",
      "Small Gods, Terry Pratchett, 1992\n",
      "Perdido Street Station, China Miéville, 2000\n",
      "Thud!, Terry Pratchett, 2005\n",
      "The Spellman Files, Lisa Lutz, 2007\n"
     ]
    }
   ],
   "source": [
    "for row in db.execute('select * from book order by year'):\n",
    "    print(*row, sep=', ')"
   ]
  },
  {
   "cell_type": "code",
   "execution_count": null,
   "id": "6fd601bd",
   "metadata": {},
   "outputs": [],
   "source": [
    "8.Use the sqlalchemy module to connect to the sqlite3 database books.db that you just made in exercise 6."
   ]
  },
  {
   "cell_type": "code",
   "execution_count": 16,
   "id": "bd75a56d",
   "metadata": {},
   "outputs": [
    {
     "name": "stdout",
     "output_type": "stream",
     "text": [
      "('Perdido Street Station',)\n",
      "('Small Gods',)\n",
      "('The Spellman Files',)\n",
      "('The Weirdstone of Brisingamen',)\n",
      "('Thud!',)\n"
     ]
    }
   ],
   "source": [
    "import sqlalchemy\n",
    "conn = sqlalchemy.create_engine('sqlite:///books.db')\n",
    "sql = 'select title from book order by title asc'\n",
    "rows = conn.execute(sql)\n",
    "for row in rows:\n",
    "    print(row)"
   ]
  },
  {
   "cell_type": "code",
   "execution_count": null,
   "id": "b23161ce",
   "metadata": {},
   "outputs": [],
   "source": [
    "9.Install the Redis server and the Python redis library (pip install redis) on your computer. Create a Redis hash called \n",
    "test with the fields count (1) and name ('Fester Bestertester'). Print all the fields for test."
   ]
  },
  {
   "cell_type": "code",
   "execution_count": 17,
   "id": "0d28b841",
   "metadata": {
    "scrolled": true
   },
   "outputs": [
    {
     "ename": "ModuleNotFoundError",
     "evalue": "No module named 'redis'",
     "output_type": "error",
     "traceback": [
      "\u001b[1;31m---------------------------------------------------------------------------\u001b[0m",
      "\u001b[1;31mModuleNotFoundError\u001b[0m                       Traceback (most recent call last)",
      "\u001b[1;32m~\\AppData\\Local\\Temp/ipykernel_10824/4027342159.py\u001b[0m in \u001b[0;36m<module>\u001b[1;34m\u001b[0m\n\u001b[1;32m----> 1\u001b[1;33m \u001b[1;32mimport\u001b[0m \u001b[0mredis\u001b[0m\u001b[1;33m\u001b[0m\u001b[1;33m\u001b[0m\u001b[0m\n\u001b[0m\u001b[0;32m      2\u001b[0m \u001b[0mconn\u001b[0m \u001b[1;33m=\u001b[0m \u001b[0mredis\u001b[0m\u001b[1;33m.\u001b[0m\u001b[0mRedis\u001b[0m\u001b[1;33m(\u001b[0m\u001b[1;33m)\u001b[0m\u001b[1;33m\u001b[0m\u001b[1;33m\u001b[0m\u001b[0m\n\u001b[0;32m      3\u001b[0m \u001b[0mconn\u001b[0m\u001b[1;33m.\u001b[0m\u001b[0mdelete\u001b[0m\u001b[1;33m(\u001b[0m\u001b[1;34m'test'\u001b[0m\u001b[1;33m)\u001b[0m\u001b[1;33m\u001b[0m\u001b[1;33m\u001b[0m\u001b[0m\n",
      "\u001b[1;31mModuleNotFoundError\u001b[0m: No module named 'redis'"
     ]
    }
   ],
   "source": [
    "-------"
   ]
  },
  {
   "cell_type": "code",
   "execution_count": null,
   "id": "8f472c08",
   "metadata": {},
   "outputs": [],
   "source": [
    "10.Increment the count field of test and print it."
   ]
  },
  {
   "cell_type": "code",
   "execution_count": 18,
   "id": "7c7a9597",
   "metadata": {},
   "outputs": [
    {
     "ename": "AttributeError",
     "evalue": "'Engine' object has no attribute 'hincrby'",
     "output_type": "error",
     "traceback": [
      "\u001b[1;31m---------------------------------------------------------------------------\u001b[0m",
      "\u001b[1;31mAttributeError\u001b[0m                            Traceback (most recent call last)",
      "\u001b[1;32m~\\AppData\\Local\\Temp/ipykernel_10824/2698280001.py\u001b[0m in \u001b[0;36m<module>\u001b[1;34m\u001b[0m\n\u001b[1;32m----> 1\u001b[1;33m \u001b[0mconn\u001b[0m\u001b[1;33m.\u001b[0m\u001b[0mhincrby\u001b[0m\u001b[1;33m(\u001b[0m\u001b[1;34m'test'\u001b[0m\u001b[1;33m,\u001b[0m \u001b[1;34m'count'\u001b[0m\u001b[1;33m,\u001b[0m \u001b[1;36m3\u001b[0m\u001b[1;33m)\u001b[0m\u001b[1;33m\u001b[0m\u001b[1;33m\u001b[0m\u001b[0m\n\u001b[0m",
      "\u001b[1;31mAttributeError\u001b[0m: 'Engine' object has no attribute 'hincrby'"
     ]
    }
   ],
   "source": [
    "--------"
   ]
  },
  {
   "cell_type": "code",
   "execution_count": null,
   "id": "e29b9af2",
   "metadata": {},
   "outputs": [],
   "source": []
  }
 ],
 "metadata": {
  "kernelspec": {
   "display_name": "Python 3 (ipykernel)",
   "language": "python",
   "name": "python3"
  },
  "language_info": {
   "codemirror_mode": {
    "name": "ipython",
    "version": 3
   },
   "file_extension": ".py",
   "mimetype": "text/x-python",
   "name": "python",
   "nbconvert_exporter": "python",
   "pygments_lexer": "ipython3",
   "version": "3.9.7"
  }
 },
 "nbformat": 4,
 "nbformat_minor": 5
}
